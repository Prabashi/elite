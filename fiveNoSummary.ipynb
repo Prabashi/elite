{
 "cells": [
  {
   "cell_type": "code",
   "execution_count": 1,
   "metadata": {},
   "outputs": [],
   "source": [
    "import pandas as pd"
   ]
  },
  {
   "cell_type": "code",
   "execution_count": 2,
   "metadata": {},
   "outputs": [],
   "source": [
    "df = pd.read_csv('bank-additional-full.csv')"
   ]
  },
  {
   "cell_type": "code",
   "execution_count": 3,
   "metadata": {},
   "outputs": [
    {
     "name": "stdout",
     "output_type": "stream",
     "text": [
      "Min age:  17\n",
      "Max age:  98\n",
      "Null Values:  False\n",
      "1º Quartile:  32.0\n",
      "2º Quartile:  38.0\n",
      "3º Quartile:  47.0\n",
      "4º Quartile:  98.0\n",
      "MEAN: 40.0\n",
      "STD : 10.4\n"
     ]
    }
   ],
   "source": [
    "print('Min age: ', df['age'].min())\n",
    "print('Max age: ', df['age'].max())\n",
    "print('Null Values: ', df['age'].isnull().any())\n",
    "\n",
    "print('1º Quartile: ', df['age'].quantile(q = 0.25))\n",
    "print('2º Quartile: ', df['age'].quantile(q = 0.50))\n",
    "print('3º Quartile: ', df['age'].quantile(q = 0.75))\n",
    "print('4º Quartile: ', df['age'].quantile(q = 1.00))\n",
    "\n",
    "print('MEAN:', round(df['age'].mean(), 1))\n",
    "print('STD :', round(df['age'].std(), 1))"
   ]
  },
  {
   "cell_type": "code",
   "execution_count": 4,
   "metadata": {},
   "outputs": [
    {
     "name": "stdout",
     "output_type": "stream",
     "text": [
      "Min duration:  0\n",
      "Max duration:  4918\n",
      "Null Values:  False\n",
      "1º Quartile:  102.0\n",
      "2º Quartile:  180.0\n",
      "3º Quartile:  319.0\n",
      "4º Quartile:  4918.0\n",
      "MEAN: 258.3\n",
      "STD : 259.3\n"
     ]
    }
   ],
   "source": [
    "print('Min duration: ', df['duration'].min())\n",
    "print('Max duration: ', df['duration'].max())\n",
    "print('Null Values: ', df['duration'].isnull().any())\n",
    "\n",
    "print('1º Quartile: ', df['duration'].quantile(q = 0.25))\n",
    "print('2º Quartile: ', df['duration'].quantile(q = 0.50))\n",
    "print('3º Quartile: ', df['duration'].quantile(q = 0.75))\n",
    "print('4º Quartile: ', df['duration'].quantile(q = 1.00))\n",
    "\n",
    "print('MEAN:', round(df['duration'].mean(), 1))\n",
    "print('STD :', round(df['duration'].std(), 1))"
   ]
  },
  {
   "cell_type": "code",
   "execution_count": 5,
   "metadata": {},
   "outputs": [
    {
     "name": "stdout",
     "output_type": "stream",
     "text": [
      "Min campaign:  1\n",
      "Max campaign:  56\n",
      "Null Values:  False\n",
      "1º Quartile:  1.0\n",
      "2º Quartile:  2.0\n",
      "3º Quartile:  3.0\n",
      "4º Quartile:  56.0\n",
      "MEAN: 2.6\n",
      "STD : 2.8\n"
     ]
    }
   ],
   "source": [
    "print('Min campaign: ', df['campaign'].min())\n",
    "print('Max campaign: ', df['campaign'].max())\n",
    "print('Null Values: ', df['campaign'].isnull().any())\n",
    "\n",
    "print('1º Quartile: ', df['campaign'].quantile(q = 0.25))\n",
    "print('2º Quartile: ', df['campaign'].quantile(q = 0.50))\n",
    "print('3º Quartile: ', df['campaign'].quantile(q = 0.75))\n",
    "print('4º Quartile: ', df['campaign'].quantile(q = 1.00))\n",
    "\n",
    "print('MEAN:', round(df['campaign'].mean(), 1))\n",
    "print('STD :', round(df['campaign'].std(), 1))"
   ]
  },
  {
   "cell_type": "code",
   "execution_count": 6,
   "metadata": {},
   "outputs": [
    {
     "name": "stdout",
     "output_type": "stream",
     "text": [
      "Min previous:  0\n",
      "Max previous:  7\n",
      "Null Values:  False\n",
      "1º Quartile:  0.0\n",
      "2º Quartile:  0.0\n",
      "3º Quartile:  0.0\n",
      "4º Quartile:  7.0\n",
      "MEAN: 0.2\n",
      "STD : 0.5\n"
     ]
    }
   ],
   "source": [
    "print('Min previous: ', df['previous'].min())\n",
    "print('Max previous: ', df['previous'].max())\n",
    "print('Null Values: ', df['previous'].isnull().any())\n",
    "\n",
    "print('1º Quartile: ', df['previous'].quantile(q = 0.25))\n",
    "print('2º Quartile: ', df['previous'].quantile(q = 0.50))\n",
    "print('3º Quartile: ', df['previous'].quantile(q = 0.75))\n",
    "print('4º Quartile: ', df['previous'].quantile(q = 1.00))\n",
    "\n",
    "print('MEAN:', round(df['previous'].mean(), 1))\n",
    "print('STD :', round(df['previous'].std(), 1))"
   ]
  }
 ],
 "metadata": {
  "kernelspec": {
   "display_name": "Python 3",
   "language": "python",
   "name": "python3"
  },
  "language_info": {
   "codemirror_mode": {
    "name": "ipython",
    "version": 3
   },
   "file_extension": ".py",
   "mimetype": "text/x-python",
   "name": "python",
   "nbconvert_exporter": "python",
   "pygments_lexer": "ipython3",
   "version": "3.8.1"
  }
 },
 "nbformat": 4,
 "nbformat_minor": 4
}
